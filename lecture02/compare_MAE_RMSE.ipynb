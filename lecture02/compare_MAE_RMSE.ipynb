{
 "cells": [
  {
   "cell_type": "code",
   "execution_count": 1,
   "metadata": {},
   "outputs": [],
   "source": [
    "import numpy as np\n",
    "def compare_mae_rmse(y,z):\n",
    "    mae = np.absolute(y-z).mean()\n",
    "    rmse = np.sqrt(((y-z)**2).mean())\n",
    "    print('mae', mae)\n",
    "    print('rmse',rmse)"
   ]
  },
  {
   "cell_type": "markdown",
   "metadata": {},
   "source": [
    "If (y<sub>i</sub>-z<sub>i</sub>) is the same for all i, RMSE and MAE are the same :"
   ]
  },
  {
   "cell_type": "code",
   "execution_count": 4,
   "metadata": {},
   "outputs": [
    {
     "name": "stdout",
     "output_type": "stream",
     "text": [
      "mae 0.4663671848478125\n",
      "rmse 0.4663671848478125\n"
     ]
    }
   ],
   "source": [
    "y = np.random.random(10)\n",
    "z = y+np.random.random()\n",
    "compare_mae_rmse(y,z)"
   ]
  },
  {
   "cell_type": "markdown",
   "metadata": {},
   "source": [
    "Usually, MAE and RMSE are different :"
   ]
  },
  {
   "cell_type": "code",
   "execution_count": 9,
   "metadata": {},
   "outputs": [
    {
     "name": "stdout",
     "output_type": "stream",
     "text": [
      "mae 0.29073675662788595\n",
      "rmse 0.3644860989056917\n"
     ]
    }
   ],
   "source": [
    "y = np.random.random(10)\n",
    "z = np.random.random(10)\n",
    "compare_mae_rmse(y,z)"
   ]
  },
  {
   "cell_type": "markdown",
   "metadata": {},
   "source": [
    "RMSE will return a higher result when there is at least one outlier :"
   ]
  },
  {
   "cell_type": "code",
   "execution_count": 11,
   "metadata": {},
   "outputs": [
    {
     "name": "stdout",
     "output_type": "stream",
     "text": [
      "mae 1.0\n",
      "rmse 3.1622776601683795\n"
     ]
    }
   ],
   "source": [
    "y = np.random.random(10)\n",
    "z = np.copy(y) # Don't forget the np.copy, else z will only be a pointer of y and both will be the same array\n",
    "z[-1] +=10\n",
    "compare_mae_rmse(y,z)"
   ]
  }
 ],
 "metadata": {
  "kernelspec": {
   "display_name": "Python 3",
   "language": "python",
   "name": "python3"
  },
  "language_info": {
   "codemirror_mode": {
    "name": "ipython",
    "version": 3
   },
   "file_extension": ".py",
   "mimetype": "text/x-python",
   "name": "python",
   "nbconvert_exporter": "python",
   "pygments_lexer": "ipython3",
   "version": "3.6.4"
  }
 },
 "nbformat": 4,
 "nbformat_minor": 2
}
