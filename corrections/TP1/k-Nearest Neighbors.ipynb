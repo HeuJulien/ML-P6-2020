{
 "cells": [
  {
   "cell_type": "code",
   "execution_count": 1,
   "metadata": {},
   "outputs": [],
   "source": [
    "%matplotlib inline\n",
    "import numpy as np\n",
    "import matplotlib.pyplot as plt\n",
    "plt.rcParams[\"figure.figsize\"] = (8, 8)\n",
    "plt.rcParams[\"font.size\"] = 14"
   ]
  },
  {
   "cell_type": "markdown",
   "metadata": {},
   "source": [
    "# Classification via k-Nearest Neighbors"
   ]
  },
  {
   "cell_type": "markdown",
   "metadata": {},
   "source": [
    "Générons d’abord des données synthétiques, ou artifcielles, avant de travailler avec des vrais problemes.   Notre modèle génératif sera un modèle de mélange gaussien (GMM, Gaussian Mixture Model): pour chaque classe, nous allons d'abord échantillonner 10 centroïdes différents\n",
    "${\\vec m}_k$ from $\\mathcal{N} ({\\vec 0}, I_2)$, puis choisissez des centroïdes au hasard et échantillonnez les données réelles de\n",
    "$\\mathcal{N} ({\\vec m}_k, \\frac{1}{5} I_2)$.\n",
    "\n",
    "Nous commençons par échantillonner les centroïdes et les tracer."
   ]
  },
  {
   "cell_type": "code",
   "execution_count": 2,
   "metadata": {},
   "outputs": [
    {
     "data": {
      "text/plain": [
       "Text(0.5, 1.0, 'Centroids')"
      ]
     },
     "execution_count": 2,
     "metadata": {},
     "output_type": "execute_result"
    },
    {
     "data": {
      "image/png": "[encoded data removed]",
      "text/plain": [
       "<Figure size 432x288 with 1 Axes>"
      ]
     },
     "metadata": {},
     "output_type": "display_data"
    }
   ],
   "source": [
    "# Samples 10 centroids for each class from two different bivariate Normal distributions\n",
    "centroids_per_class = 10\n",
    "\n",
    "class0_centroids = [1, 0] + np.random.randn(centroids_per_class, 2)\n",
    "class1_centroids = [0, 1] + np.random.randn(centroids_per_class, 2)\n",
    "\n",
    "# Plot centroids\n",
    "plt.plot(class0_centroids[:, 0], class0_centroids[:, 1], \"o\", markersize=8)\n",
    "plt.plot(class1_centroids[:, 0], class1_centroids[:, 1], \"x\", markersize=8)\n",
    "plt.title(\"Centroids\")"
   ]
  },
  {
   "cell_type": "markdown",
   "metadata": {},
   "source": [
    "Une fois que nous avons les centroïdes, nous pouvons échantillonner les données réelles"
   ]
  },
  {
   "cell_type": "code",
   "execution_count": 3,
   "metadata": {},
   "outputs": [
    {
     "data": {
      "text/plain": [
       "Text(0.5, 1.0, 'Samples')"
      ]
     },
     "execution_count": 3,
     "metadata": {},
     "output_type": "execute_result"
    },
    {
     "data": {
      "image/png": "[encoded data removed]",
      "text/plain": [
       "<Figure size 432x288 with 1 Axes>"
      ]
     },
     "metadata": {},
     "output_type": "display_data"
    }
   ],
   "source": [
    "samples_per_class = 100\n",
    "\n",
    "# Sample actual data sampling from Normal distributions positioned around the centroids\n",
    "class0_labels = np.random.randint(10, size = samples_per_class)\n",
    "class1_labels = np.random.randint(10, size = samples_per_class)\n",
    "\n",
    "class0_samples = class0_centroids[class0_labels, :] + np.sqrt(1. / 5) * np.random.randn(samples_per_class, 2)\n",
    "class1_samples = class1_centroids[class1_labels, :] + np.sqrt(1. / 5) * np.random.randn(samples_per_class, 2)\n",
    "\n",
    "# Plot data\n",
    "plt.plot(class0_samples[:, 0], class0_samples[:, 1], \"o\", markersize=8)\n",
    "plt.plot(class1_samples[:, 0], class1_samples[:, 1], \"x\", markersize=8)\n",
    "plt.title(\"Samples\")"
   ]
  },
  {
   "cell_type": "markdown",
   "metadata": {},
   "source": [
    "C’est le problème que nous voulons résoudre: on nous donne ces points et nous voulons trouver une frontière de décision assurant la généralisation, c’est-à-dire que nous pourrons classer correctement les nouveaux échantillons une fois qu’ils nous auront été fournis.\n",
    "\n",
    "Groupons les données de manière agréable. Pour les problèmes de classification binaire comme celui-ci, la manière dont les données sont arrangées est généralement toujours la même.\n",
    "- une matrice des données $ X $ de taille $ N \\times P $, où $ N $ est le nombre d'échantillons et $ P $ est le nombre de parametres (ou descripteurs/features) (dans notre cas, $ N = 200 $ et $ P = 2 $) ;\n",
    "- un vecteur de label $ y \\in \\{0, 1 \\} ^ N $ indiquant à quelle classe appartient chaque échantillon"
   ]
  },
  {
   "cell_type": "code",
   "execution_count": 4,
   "metadata": {},
   "outputs": [
    {
     "name": "stdout",
     "output_type": "stream",
     "text": [
      "[[-0.36061088  1.37240934]\n",
      " [-0.68006084  0.28396812]\n",
      " [ 2.59385739  0.90770276]\n",
      " [ 0.9654129  -0.07291704]\n",
      " [ 1.05986629  1.0116537 ]\n",
      " [-1.03665741  0.62885922]\n",
      " [ 0.21991177  0.75561031]\n",
      " [ 2.51962237  0.44512439]\n",
      " [ 1.3192151   0.25306502]\n",
      " [ 1.71937587  0.42882308]\n",
      " [ 2.65899709  1.6972061 ]\n",
      " [-0.43712374  1.26102721]\n",
      " [ 2.84523619 -0.67994902]\n",
      " [ 2.34535033 -0.08010142]\n",
      " [ 0.50829236  0.47953005]\n",
      " [ 0.92966135 -0.60884412]\n",
      " [ 1.77909305 -0.6992714 ]\n",
      " [ 2.76763857  2.55215557]\n",
      " [ 1.79198473  0.4724559 ]\n",
      " [ 1.02211761  0.77352954]\n",
      " [ 1.21287396 -0.03287541]\n",
      " [-0.15855218  1.42657189]\n",
      " [ 0.36657628  0.25326277]\n",
      " [ 2.05577437 -0.64352753]\n",
      " [-0.00769138  1.92265295]\n",
      " [-0.58341088 -1.00199865]\n",
      " [ 1.42283027  0.27112047]\n",
      " [ 1.70656633 -0.00751087]\n",
      " [-0.28078019 -0.77585117]\n",
      " [ 0.26239884 -0.4938718 ]\n",
      " [ 1.47224659  0.4666741 ]\n",
      " [ 2.13871424  0.46166298]\n",
      " [ 0.91918495 -0.93305159]\n",
      " [ 2.3122196   2.09564409]\n",
      " [ 2.13601514  0.35386693]\n",
      " [ 1.77708687  0.01309327]\n",
      " [ 0.31620997  0.01968123]\n",
      " [ 2.72223017  2.17261753]\n",
      " [-0.04833531 -0.87822396]\n",
      " [ 0.15608672  0.16631993]\n",
      " [ 0.7893242   0.44789372]\n",
      " [ 1.24405666 -0.16429975]\n",
      " [ 0.97744328  0.37462259]\n",
      " [ 2.36954258  1.29304528]\n",
      " [ 0.37825351  0.47061401]\n",
      " [ 3.18170527  1.1988708 ]\n",
      " [ 2.35413374  1.36565498]\n",
      " [ 2.81942108  0.79753766]\n",
      " [ 2.00661866 -0.21831026]\n",
      " [-0.44404238 -0.34141898]\n",
      " [-0.28694406 -0.56157501]\n",
      " [ 3.02072481  1.59010354]\n",
      " [ 0.77147096  1.43255934]\n",
      " [ 0.57438594  0.7645537 ]\n",
      " [-0.44649085  0.24553141]\n",
      " [ 2.72366283  1.57911692]\n",
      " [-0.24856261 -0.97859246]\n",
      " [ 1.7206134  -0.23699273]\n",
      " [-0.7415678   1.62076172]\n",
      " [ 1.1103002   1.26436297]\n",
      " [ 2.09602883  1.1786506 ]\n",
      " [ 2.54450249  1.78401077]\n",
      " [ 0.24578077  1.15548989]\n",
      " [ 2.13058001  0.02441538]\n",
      " [ 0.18337612  0.63771073]\n",
      " [ 0.24617086  0.03284675]\n",
      " [ 1.19243007 -0.16140379]\n",
      " [ 1.94192948  0.27809228]\n",
      " [ 0.67033896 -1.5817579 ]\n",
      " [ 0.80095124  0.55936832]\n",
      " [-1.22568273  0.11109009]\n",
      " [-0.58548549 -0.05010101]\n",
      " [ 0.23263253 -0.2142552 ]\n",
      " [ 2.89380103  0.8770924 ]\n",
      " [-0.79190667  0.3801232 ]\n",
      " [ 0.90421129  1.25630667]\n",
      " [ 0.16213105  1.18177515]\n",
      " [ 0.74129746 -0.22673943]\n",
      " [ 1.56594959  1.42753021]\n",
      " [ 0.14849981  0.83132726]\n",
      " [ 0.62317213  0.36193289]\n",
      " [-0.51350513  0.78261486]\n",
      " [ 0.81150383 -0.329245  ]\n",
      " [ 3.34812689  1.27141726]\n",
      " [ 1.62502363  0.39263039]\n",
      " [ 0.20354254 -0.05914442]\n",
      " [ 1.63382445 -0.33803523]\n",
      " [-0.0943854  -0.2773808 ]\n",
      " [ 1.5225007   1.36892379]\n",
      " [-0.87928994  0.99556039]\n",
      " [ 1.11079516 -0.11440888]\n",
      " [ 2.67115409  0.09191425]\n",
      " [ 0.61376453 -0.1331403 ]\n",
      " [ 1.11257701  1.06392659]\n",
      " [ 0.88695111 -0.39556777]\n",
      " [ 0.69909054  0.63803985]\n",
      " [-0.65737491  1.28070054]\n",
      " [-1.21898552  0.51957279]\n",
      " [ 0.91562812  0.12693558]\n",
      " [ 0.23995349  0.88343607]\n",
      " [ 1.07659817 -0.19650297]\n",
      " [ 0.1270891   0.44266927]\n",
      " [-0.80369794  1.47775018]\n",
      " [-1.88427312  0.85445566]\n",
      " [-1.36336051  0.52801255]\n",
      " [ 0.83199912  2.04842655]\n",
      " [ 0.33727386  1.78656073]\n",
      " [ 0.27778466  0.41841193]\n",
      " [-0.60787158  1.69409308]\n",
      " [-1.46350711  1.89428531]\n",
      " [ 1.21823802 -0.02727838]\n",
      " [-0.76282803  0.83103631]\n",
      " [-0.75803048  0.23577392]\n",
      " [-1.49743125  1.54442272]\n",
      " [-1.00420067  1.01105192]\n",
      " [ 1.55462364  0.55234973]\n",
      " [-0.81870981 -0.25238933]\n",
      " [-0.07348008  0.77693639]\n",
      " [ 0.09508651  1.56785875]\n",
      " [-0.60071601  0.35764916]\n",
      " [-1.24469315  0.31446805]\n",
      " [-0.4130054   0.66786866]\n",
      " [ 0.77948615  2.06270121]\n",
      " [ 0.4180183  -0.13292393]\n",
      " [-1.0658941   0.18782059]\n",
      " [ 2.11210392  0.31015115]\n",
      " [-1.12543772  0.41168887]\n",
      " [-1.17937135  1.07970908]\n",
      " [ 1.70638479  0.55822452]\n",
      " [ 0.67815098  1.04910363]\n",
      " [-1.42420419  1.40147028]\n",
      " [-0.03821955  1.58113056]\n",
      " [ 0.12656898  1.56863149]\n",
      " [ 1.11303751  1.88139903]\n",
      " [-1.18425921  2.08080079]\n",
      " [-1.69185973  0.62661791]\n",
      " [-0.69366806  0.19113297]\n",
      " [-1.80490008  1.07793878]\n",
      " [ 0.08756699  1.64644997]\n",
      " [ 0.77920341  1.99379527]\n",
      " [-1.46154485  0.81274387]\n",
      " [-1.47149106  0.21457277]\n",
      " [-1.08326627  1.44472284]\n",
      " [-1.14703658  0.8007266 ]\n",
      " [-1.4776016  -0.00675974]\n",
      " [ 0.7056097   1.89062271]\n",
      " [ 0.10965804  0.75184177]\n",
      " [ 0.5339566   0.36196668]\n",
      " [-1.15647576 -0.32460452]\n",
      " [-0.01710781  1.63406412]\n",
      " [ 0.41505929 -0.84180228]\n",
      " [ 0.85231455  2.05022377]\n",
      " [ 0.31397136  1.17461084]\n",
      " [-1.54214411  0.84745122]\n",
      " [-0.8617335   0.41572563]\n",
      " [-0.56023153  1.31754963]\n",
      " [ 0.19315398  0.91581402]\n",
      " [ 0.37109974  2.02332438]\n",
      " [-0.01422583  0.89033489]\n",
      " [-0.51395065  0.83804057]\n",
      " [-0.70041235 -0.20982016]\n",
      " [-0.52694999 -0.85834032]\n",
      " [ 0.46556016  1.55515747]\n",
      " [-0.39097949  1.29413389]\n",
      " [-0.37488386  0.23168414]\n",
      " [-0.99567946  1.74296005]\n",
      " [-1.02351264  0.37056563]\n",
      " [-0.88806478  0.76012226]\n",
      " [-1.09149938 -0.39348599]\n",
      " [ 0.98109622  2.11765859]\n",
      " [ 1.57334499  1.71980165]\n",
      " [-0.56414878  0.92529903]\n",
      " [ 0.31495575  2.64546091]\n",
      " [-0.21762492  1.46469468]\n",
      " [ 0.41042184 -0.57008695]\n",
      " [-0.70683898  0.58613171]\n",
      " [ 2.54905242  0.70396317]\n",
      " [-1.48338901  1.33243679]\n",
      " [-1.31599637  0.72063242]\n",
      " [ 1.58971186  0.20859549]\n",
      " [-1.88975897  1.90040676]\n",
      " [-0.27244643  1.10148984]\n",
      " [ 1.8575525   0.52888283]\n",
      " [-0.4507348  -1.48992588]\n",
      " [-0.64312285  0.76225582]\n",
      " [ 0.0215062   1.87892658]\n",
      " [ 1.3819509   0.60163601]\n",
      " [ 0.28430701  0.31789246]\n",
      " [-0.28897158 -1.08407296]\n",
      " [-0.7181682  -0.98344506]\n",
      " [ 0.26948809  1.46153022]\n",
      " [-1.21004048  1.48600927]\n",
      " [ 1.81016596  0.19008519]\n",
      " [-0.91839968  1.52060735]\n",
      " [-0.88089494  0.59962705]\n",
      " [-0.70970467  0.60126637]\n",
      " [ 0.19542591  1.25774446]\n",
      " [-0.49679537 -1.4456934 ]\n",
      " [ 0.34240792  1.38850416]\n",
      " [ 0.31551578  1.08689809]]\n",
      "[0. 0. 0. 0. 0. 0. 0. 0. 0. 0. 0. 0. 0. 0. 0. 0. 0. 0. 0. 0. 0. 0. 0. 0.\n",
      " 0. 0. 0. 0. 0. 0. 0. 0. 0. 0. 0. 0. 0. 0. 0. 0. 0. 0. 0. 0. 0. 0. 0. 0.\n",
      " 0. 0. 0. 0. 0. 0. 0. 0. 0. 0. 0. 0. 0. 0. 0. 0. 0. 0. 0. 0. 0. 0. 0. 0.\n",
      " 0. 0. 0. 0. 0. 0. 0. 0. 0. 0. 0. 0. 0. 0. 0. 0. 0. 0. 0. 0. 0. 0. 0. 0.\n",
      " 0. 0. 0. 0. 1. 1. 1. 1. 1. 1. 1. 1. 1. 1. 1. 1. 1. 1. 1. 1. 1. 1. 1. 1.\n",
      " 1. 1. 1. 1. 1. 1. 1. 1. 1. 1. 1. 1. 1. 1. 1. 1. 1. 1. 1. 1. 1. 1. 1. 1.\n",
      " 1. 1. 1. 1. 1. 1. 1. 1. 1. 1. 1. 1. 1. 1. 1. 1. 1. 1. 1. 1. 1. 1. 1. 1.\n",
      " 1. 1. 1. 1. 1. 1. 1. 1. 1. 1. 1. 1. 1. 1. 1. 1. 1. 1. 1. 1. 1. 1. 1. 1.\n",
      " 1. 1. 1. 1. 1. 1. 1. 1.]\n"
     ]
    }
   ],
   "source": [
    "X = np.vstack((class0_samples, class1_samples))\n",
    "y = np.hstack((np.zeros(samples_per_class), np.ones(samples_per_class)))\n",
    "\n",
    "print(X)\n",
    "print(y)\n",
    "\n",
    "n_samples, n_features = np.shape(X)"
   ]
  },
  {
   "cell_type": "markdown",
   "metadata": {},
   "source": [
    "Ensuite, nous calculons la matrice de distance, une matrice $ N \\times N $ contenant la distance entre chaque échantillon et tous les autres (en avons-nous vraiment besoin?)\n",
    "\n",
    "**Exercice** : calculez la matrice de distance."
   ]
  },
  {
   "cell_type": "code",
   "execution_count": 5,
   "metadata": {},
   "outputs": [],
   "source": [
    "def compute_distances(X):\n",
    "    n_samples = len(X)\n",
    "    distances = np.zeros((n_samples, n_samples))\n",
    "    for i in range(len(X)):\n",
    "        for j in range(len(X)):\n",
    "            distances[i][j] = np.sqrt((X[i][0]-X[j][0])**2+(X[i][1]-X[j][1])**2)\n",
    "    return np.array(distances)"
   ]
  },
  {
   "cell_type": "markdown",
   "metadata": {},
   "source": [
    "Nous ne voulons pas vraiment utiliser les boucles en Python, alors re-ecrivez cette routines sans boucles!"
   ]
  },
  {
   "cell_type": "code",
   "execution_count": 6,
   "metadata": {},
   "outputs": [
    {
     "name": "stdout",
     "output_type": "stream",
     "text": [
      "10 loops, best of 3: 187 ms per loop\n",
      "[[0.         1.13435116 2.9907917  ... 2.82139137 0.70320302 0.73393729]\n",
      " [1.13435116 0.         3.33280444 ... 1.73934333 1.5051386  1.27901108]\n",
      " [2.9907917  3.33280444 0.         ... 3.88466317 2.30221517 2.28537774]\n",
      " ...\n",
      " [2.82139137 1.73934333 3.88466317 ... 0.         2.95583118 2.65967462]\n",
      " [0.70320302 1.5051386  2.30221517 ... 2.95583118 0.         0.30280258]\n",
      " [0.73393729 1.27901108 2.28537774 ... 2.65967462 0.30280258 0.        ]]\n",
      "1000 loops, best of 3: 1.36 ms per loop\n",
      "[[0.         1.13435116 2.9907917  ... 2.82139137 0.70320302 0.73393729]\n",
      " [1.13435116 0.         3.33280444 ... 1.73934333 1.5051386  1.27901108]\n",
      " [2.9907917  3.33280444 0.         ... 3.88466317 2.30221517 2.28537774]\n",
      " ...\n",
      " [2.82139137 1.73934333 3.88466317 ... 0.         2.95583118 2.65967462]\n",
      " [0.70320302 1.5051386  2.30221517 ... 2.95583118 0.         0.30280258]\n",
      " [0.73393729 1.27901108 2.28537774 ... 2.65967462 0.30280258 0.        ]]\n",
      "10000 loops, best of 3: 139 µs per loop\n",
      "[[0.         1.13435116 2.9907917  ... 2.82139137 0.70320302 0.73393729]\n",
      " [1.13435116 0.         3.33280444 ... 1.73934333 1.5051386  1.27901108]\n",
      " [2.9907917  3.33280444 0.         ... 3.88466317 2.30221517 2.28537774]\n",
      " ...\n",
      " [2.82139137 1.73934333 3.88466317 ... 0.         2.95583118 2.65967462]\n",
      " [0.70320302 1.5051386  2.30221517 ... 2.95583118 0.         0.30280258]\n",
      " [0.73393729 1.27901108 2.28537774 ... 2.65967462 0.30280258 0.        ]]\n"
     ]
    }
   ],
   "source": [
    "distances = compute_distances(X)\n",
    "%timeit compute_distances(X)\n",
    "print(distances)\n",
    "\n",
    "# Try to create a function without any loop\n",
    "def compute_distances_no_loop(X):\n",
    "    distances = np.sqrt(np.sum((X[:, np.newaxis] - X) ** 2, 2))    \n",
    "    return distances\n",
    "\n",
    "distances = compute_distances_no_loop(X)\n",
    "%timeit compute_distances_no_loop(X)\n",
    "print(distances)\n",
    "\n",
    "# Compare your function with one that someone already wrote in C\n",
    "# Look for such a function in the documentation of scipy and replace the ???\n",
    "from scipy.spatial.distance import cdist\n",
    "distances = cdist(X, X)\n",
    "%timeit cdist(X, X)\n",
    "print(distances)"
   ]
  },
  {
   "cell_type": "markdown",
   "metadata": {},
   "source": [
    "En utilisant la matrice de distance, nous pouvons maintenant écrire notre algorithme!\n",
    "\n",
    "**Exercice**: écrivez une fonction qui calcule l'estimation du voisin $ k $ le plus proche pour chaque point de l'ensemble d'apprentissage. Astuce: recherchez la fonction `np.argpartition`. Quelle est l'erreur de formation?"
   ]
  },
  {
   "cell_type": "code",
   "execution_count": 19,
   "metadata": {},
   "outputs": [],
   "source": [
    "?np.argpartition"
   ]
  },
  {
   "cell_type": "code",
   "execution_count": 7,
   "metadata": {},
   "outputs": [
    {
     "name": "stdout",
     "output_type": "stream",
     "text": [
      "[1. 1. 0. 0. 0. 1. 0. 0. 0. 0. 0. 1. 0. 0. 0. 0. 0. 0. 0. 0. 0. 1. 0. 0.\n",
      " 1. 1. 0. 0. 0. 0. 0. 0. 0. 0. 0. 0. 0. 0. 0. 0. 0. 0. 0. 0. 0. 0. 0. 0.\n",
      " 0. 0. 0. 0. 1. 0. 1. 0. 0. 0. 1. 0. 0. 0. 1. 0. 1. 0. 0. 0. 0. 0. 1. 1.\n",
      " 0. 0. 1. 0. 1. 0. 0. 0. 0. 1. 0. 0. 1. 0. 0. 0. 0. 1. 0. 0. 0. 0. 0. 0.\n",
      " 0. 1. 0. 1. 0. 0. 1. 1. 1. 1. 1. 0. 1. 1. 0. 1. 1. 1. 1. 0. 1. 1. 1. 1.\n",
      " 1. 1. 1. 0. 1. 0. 1. 1. 0. 0. 1. 1. 1. 1. 1. 1. 1. 1. 1. 1. 1. 1. 1. 1.\n",
      " 1. 1. 1. 0. 1. 1. 0. 1. 1. 1. 1. 1. 0. 1. 1. 1. 1. 0. 1. 1. 1. 1. 1. 1.\n",
      " 1. 1. 0. 1. 1. 1. 0. 1. 0. 1. 1. 0. 1. 1. 0. 0. 1. 1. 0. 0. 1. 1. 1. 1.\n",
      " 0. 1. 1. 1. 1. 1. 1. 0.]\n",
      "0.22\n"
     ]
    }
   ],
   "source": [
    "def knn(X, y, k):\n",
    "    # Here goes the algorithm\n",
    "    dist = cdist(X,X)\n",
    "    n_samples = len(X)\n",
    "    estimate = np.zeros(n_samples)\n",
    "    for i in range(n_samples):\n",
    "        neighbours = np.argpartition(dist[i],k)[:k]\n",
    "        estimate[i] = round(np.mean(y[neighbours]) + 1e-6 * np.random.randn())\n",
    "    return estimate\n",
    "\n",
    "est_labels = knn(X, y, 10)\n",
    "print(est_labels)\n",
    "\n",
    "# Let us compute the training error\n",
    "train_error = np.mean(y != est_labels)\n",
    "print(train_error)"
   ]
  },
  {
   "cell_type": "markdown",
   "metadata": {},
   "source": [
    "La première moitié du vecteur devrait être composée uniquement de 0 et la seconde moitié devrait être composée de 1; nous pouvons voir cependant qu'il y a des erreurs. Laissez-nous les comploter pour essayer de comprendre ce qui se passe."
   ]
  },
  {
   "cell_type": "code",
   "execution_count": 8,
   "metadata": {},
   "outputs": [
    {
     "data": {
      "text/plain": [
       "[<matplotlib.lines.Line2D at 0x7fbb060ef208>]"
      ]
     },
     "execution_count": 8,
     "metadata": {},
     "output_type": "execute_result"
    },
    {
     "data": {
      "image/png": "[encoded data removed]",
      "text/plain": [
       "<Figure size 432x288 with 1 Axes>"
      ]
     },
     "metadata": {},
     "output_type": "display_data"
    }
   ],
   "source": [
    "# Plot data\n",
    "plt.plot(X[y == 0, 0], X[y == 0, 1], \"o\", markersize=8)\n",
    "plt.plot(X[y == 1, 0], X[y == 1, 1], \"x\", markersize=8)\n",
    "\n",
    "# Draw a red circle around misclassified samples\n",
    "errors = (y != est_labels)\n",
    "plt.plot(X[errors, 0], X[errors, 1], \"o\", color=\"red\", markeredgewidth=3, markerfacecolor=\"white\", markersize=12, alpha=0.5)\n",
    "#plt.plot(X[errors, 0], X[errors, 1], \"o\", color=\"red\", mew=3, mfc=\"white\", ms=12, alpha=0.5)"
   ]
  },
  {
   "cell_type": "markdown",
   "metadata": {},
   "source": [
    "Comme on pouvait s'y attendre, des erreurs se produisent dans des régions où la majorité des points appartiennent à l'autre classe.\n",
    "\n",
    "Mais que se passe-t-il lorsque nous essayons de classer des points qui ne sont pas dans le set d'entrainement (le training set)? Il y a plusieurs façons d'évaluer cela. Par exemple, nous aurions pu utiliser seulement une partie de nos données dans l'ensemble de formation (environ 80%) et utiliser le reste pour calculer l'erreur dite de test.\n",
    "Puisque dans notre cas cependant le modèle génératif est connu, nous pourrions aussi bien en extraire davantage d’échantillons."
   ]
  },
  {
   "cell_type": "code",
   "execution_count": 9,
   "metadata": {},
   "outputs": [
    {
     "name": "stdout",
     "output_type": "stream",
     "text": [
      "[[1.85416627 3.18914346 0.65942919 ... 1.58509697 1.4737669  1.19612534]\n",
      " [1.78804524 3.47533881 0.60379179 ... 0.55633622 1.96890799 1.01856888]\n",
      " [1.62957289 0.23970908 3.38941787 ... 3.86196289 1.51704998 2.31854674]\n",
      " ...\n",
      " [2.32691216 3.92661983 2.34145196 ... 1.59475298 3.03376165 2.02088449]\n",
      " [1.38012716 2.50807762 1.24765996 ... 2.04361129 0.79271856 0.99121592]\n",
      " [1.15960602 2.47412942 1.13065626 ... 1.83088662 0.7804083  0.68975837]]\n",
      "(200, 20000)\n"
     ]
    }
   ],
   "source": [
    "# Sample test data from the model\n",
    "testsamples_per_class = 10000\n",
    "\n",
    "class0_testlabels = np.random.randint(10, size = testsamples_per_class)\n",
    "class1_testlabels = np.random.randint(10, size = testsamples_per_class)\n",
    "class0_testsamples = class0_centroids[class0_testlabels, :] + np.sqrt(1. / 5) * np.random.randn(testsamples_per_class, 2)\n",
    "class1_testsamples = class1_centroids[class1_testlabels, :] + np.sqrt(1. / 5) * np.random.randn(testsamples_per_class, 2)\n",
    "\n",
    "X_test = np.vstack((class0_testsamples, class1_testsamples))\n",
    "y_test = np.hstack((np.zeros(testsamples_per_class), np.ones(testsamples_per_class)))\n",
    "\n",
    "# Compute distance matrix between X and X_test\n",
    "distances_test = cdist(X, X_test)\n",
    "print(distances_test)\n",
    "print(np.shape(distances_test))"
   ]
  },
  {
   "cell_type": "code",
   "execution_count": 10,
   "metadata": {},
   "outputs": [
    {
     "data": {
      "text/plain": [
       "[<matplotlib.lines.Line2D at 0x7fbb0615d9e8>]"
      ]
     },
     "execution_count": 10,
     "metadata": {},
     "output_type": "execute_result"
    },
    {
     "data": {
      "image/png": "[encoded data removed]",
      "text/plain": [
       "<Figure size 432x288 with 1 Axes>"
      ]
     },
     "metadata": {},
     "output_type": "display_data"
    }
   ],
   "source": [
    "# Plot test data\n",
    "plt.plot(X_test[y_test == 0, 0], X_test[y_test == 0, 1], \"o\", ms=8)\n",
    "plt.plot(X_test[y_test == 1, 0], X_test[y_test == 1, 1], \"x\", ms=8)"
   ]
  },
  {
   "cell_type": "markdown",
   "metadata": {},
   "source": [
    "Nous écrivons maintenant une fonction similaire à `knn` qui calcule les estimations non pas pour les points du jeu d’entraînement, mais pour les points d’un nouveau * test *."
   ]
  },
  {
   "cell_type": "code",
   "execution_count": 11,
   "metadata": {},
   "outputs": [
    {
     "name": "stdout",
     "output_type": "stream",
     "text": [
      "[0. 0. 1. ... 1. 0. 0.]\n",
      "0.30185\n"
     ]
    }
   ],
   "source": [
    "def knn_test(X_train, y_train, X_test, y_test, k):\n",
    "    # Here goes the algorithm\n",
    "    # The predictions have to be made on X_test from the data from X_train/y_train\n",
    "    dist = cdist(X_test,X_train)\n",
    "    n_samples = len(X_test)\n",
    "    estimate = np.zeros(n_samples)\n",
    "    for i in range(n_samples):\n",
    "        neighbours = np.argpartition(dist[i],k)[:k]\n",
    "        estimate[i] = round(np.mean(y_train[neighbours])+ 1e-6 * np.random.randn())\n",
    "    return estimate\n",
    "\n",
    "est_testlabels = knn_test(X, y, X_test, y_test, 10)\n",
    "print(est_testlabels)\n",
    "\n",
    "# Let us compute the test error, now\n",
    "print(np.mean(y_test != est_testlabels))"
   ]
  },
  {
   "cell_type": "markdown",
   "metadata": {},
   "source": [
    "L’un des problèmes que nous rencontrons lorsque nous utilisons les l'algorithme kNN est qu’il faut choisir une valeur pour $ k $ - en principe, on ne sait pas comment le faire!\n",
    "Pour mieux comprendre cela, voyons comment se comportent les erreurs d’entraînement et de test en fonction de $ k $."
   ]
  },
  {
   "cell_type": "code",
   "execution_count": 12,
   "metadata": {},
   "outputs": [
    {
     "name": "stdout",
     "output_type": "stream",
     "text": [
      "k = 1; train error = 0, test error = 0.35925\n",
      "k = 2; train error = 0.17, test error = 0.36045\n",
      "k = 3; train error = 0.175, test error = 0.33015\n",
      "k = 4; train error = 0.215, test error = 0.3295\n",
      "k = 5; train error = 0.195, test error = 0.3132\n",
      "k = 6; train error = 0.215, test error = 0.314\n",
      "k = 7; train error = 0.21, test error = 0.3033\n",
      "k = 8; train error = 0.215, test error = 0.30735\n",
      "k = 9; train error = 0.205, test error = 0.30335\n",
      "k = 10; train error = 0.21, test error = 0.30165\n",
      "k = 11; train error = 0.215, test error = 0.3006\n",
      "k = 12; train error = 0.22, test error = 0.29885\n",
      "k = 13; train error = 0.23, test error = 0.2973\n",
      "k = 14; train error = 0.215, test error = 0.2997\n",
      "k = 15; train error = 0.215, test error = 0.29815\n",
      "k = 16; train error = 0.22, test error = 0.2985\n",
      "k = 17; train error = 0.22, test error = 0.29855\n",
      "k = 18; train error = 0.22, test error = 0.3003\n",
      "k = 19; train error = 0.2, test error = 0.30065\n"
     ]
    },
    {
     "data": {
      "text/plain": [
       "Text(0, 0.5, 'misclassification error')"
      ]
     },
     "execution_count": 12,
     "metadata": {},
     "output_type": "execute_result"
    },
    {
     "data": {
      "image/png": "[encoded data removed]",
      "text/plain": [
       "<Figure size 432x288 with 1 Axes>"
      ]
     },
     "metadata": {},
     "output_type": "display_data"
    }
   ],
   "source": [
    "# Convenience functions that compute the training and test errors, given training and test samples\n",
    "def compute_train_error(X, y, k=1):\n",
    "    y_hat = knn(X, y, k)\n",
    "    return np.mean(y != y_hat)\n",
    "    \n",
    "def compute_test_error(X_train, y_train, X_test, y_test, k=1):\n",
    "    y_hat = knn_test(X_train, y_train, X_test, y_test, k)\n",
    "    return np.mean(y_test != y_hat)\n",
    "\n",
    "# Run functions for k belonging to a range of values\n",
    "ks = np.arange(1, 20)\n",
    "train_error = []\n",
    "test_error = []\n",
    "for (i, k) in enumerate(ks):\n",
    "    train_error.append(compute_train_error(X, y, k))\n",
    "    test_error.append(compute_test_error(X, y, X_test, y_test, k))\n",
    "    print(\"k = %d; train error = %g, test error = %g\" % (k, train_error[-1], test_error[-1]))\n",
    "\n",
    "# Plot results\n",
    "plt.plot(ks, train_error, label = \"train\")\n",
    "plt.plot(ks, test_error, label = \"test\")\n",
    "plt.legend()\n",
    "plt.xlabel(r\"$k$\")\n",
    "plt.ylabel(\"misclassification error\")"
   ]
  },
  {
   "cell_type": "markdown",
   "metadata": {},
   "source": [
    "Il est instructif d’utiliser une autre quantité sur l’axe des x au lieu de $k$: le nombre de degrés de liberté $N / k$. En effet, plus le nombre $k$ est grand,   plus le nombre de paramètres effectifs est petit - pensons par exemple à la limite $k = N$ ,  où tout le monde se voit attribuer le meme label!"
   ]
  },
  {
   "cell_type": "code",
   "execution_count": 13,
   "metadata": {},
   "outputs": [
    {
     "name": "stdout",
     "output_type": "stream",
     "text": [
      "k = 1; train error = 0, test error = 0.35925\n",
      "k = 2; train error = 0.165, test error = 0.3622\n",
      "k = 3; train error = 0.175, test error = 0.33015\n",
      "k = 4; train error = 0.205, test error = 0.32835\n",
      "k = 5; train error = 0.195, test error = 0.3132\n",
      "k = 6; train error = 0.19, test error = 0.3114\n",
      "k = 7; train error = 0.21, test error = 0.3033\n",
      "k = 8; train error = 0.215, test error = 0.3086\n",
      "k = 9; train error = 0.205, test error = 0.30335\n",
      "k = 10; train error = 0.23, test error = 0.30305\n",
      "k = 40; train error = 0.24, test error = 0.29545\n",
      "k = 70; train error = 0.235, test error = 0.29595\n",
      "k = 100; train error = 0.235, test error = 0.29765\n",
      "k = 130; train error = 0.235, test error = 0.2944\n"
     ]
    },
    {
     "data": {
      "text/plain": [
       "(0.0, 0.5)"
      ]
     },
     "execution_count": 13,
     "metadata": {},
     "output_type": "execute_result"
    },
    {
     "data": {
      "image/png": "[encoded data removed]",
      "text/plain": [
       "<Figure size 432x288 with 1 Axes>"
      ]
     },
     "metadata": {},
     "output_type": "display_data"
    }
   ],
   "source": [
    "# Re-run the experiment above for a different range of values\n",
    "ks = np.r_[np.arange(1, 10), np.arange(10, 150, 30)]\n",
    "train_error = []\n",
    "test_error = []\n",
    "for k in ks:\n",
    "    train_error.append(compute_train_error(X, y, k))\n",
    "    test_error.append(compute_test_error(X, y, X_test, y_test, k))\n",
    "    print(\"k = %d; train error = %g, test error = %g\" % (k, train_error[-1], test_error[-1]))\n",
    "\n",
    "# Plot error as a function of the degrees of freedom\n",
    "plt.plot(len(y) / np.array(ks), train_error, \"-o\", label = \"train\")\n",
    "plt.plot(len(y) / np.array(ks), test_error, \"-o\", label = \"test\")\n",
    "plt.legend()\n",
    "plt.xlabel(r\"degrees of freedom $N / k$\")\n",
    "plt.ylabel(\"misclassification error\")\n",
    "plt.ylim((0.0, 0.5))"
   ]
  },
  {
   "cell_type": "markdown",
   "metadata": {},
   "source": [
    "Ce graphique rend explicite le fameux * compromis biais-variance * qui apparaît dans toutes les études statistiques. Si nous avons plus de paramètres, nous pouvons obtenir une erreur d’entraînement réduite, mais l’erreur de test (par analogie, de généralisation) augmente en fait, ce qui signifie que nous sur-ajustons (over-fitting en anglais)"
   ]
  },
  {
   "cell_type": "markdown",
   "metadata": {},
   "source": [
    "## A Python library for Machine Learning: scikit-learn"
   ]
  },
  {
   "cell_type": "markdown",
   "metadata": {},
   "source": [
    "Vous avez peut-être remarqué que l'exécution de notre implémentation $ k $ -NN pour 20000 échantillons commençait déjà à sembler un peu lente… C'est parce qu'elle n'est pas vraiment optimisée. Si nous voulions que les choses soient rapides, nous devrions recourir à du code C, en utilisant des extensions Python telles que Cython ou ctypes (c'est en fait ce que font pour nous des paquets tels que Numpy et Scipy).\n",
    "De plus, nous avons fait les choses très naïvement - par exemple, il n’est pas nécessaire de calculer la matrice de distance complète si on utilise des structures de données appropriées telles que kd-trees, etc.\n",
    "\n",
    "Heureusement pour nous, il y a des gens qui ont déjà écrit des versions optimisées de la plupart des algorithmes d'apprentissage automatique standard! L'un des package les. plus populaire est le projet scikit-learn, wui a débuté sous le nom de scikits.learn, un projet Google Summer of Code de David Cournapeau.  Elle est développée par de nombreux contributeurs, et notamment dans le monde académique par des instituts français d'enseignement supérieur et de recherche."
   ]
  },
  {
   "cell_type": "markdown",
   "metadata": {},
   "source": [
    "![scikit-learn website](sklearn.png)"
   ]
  },
  {
   "cell_type": "markdown",
   "metadata": {},
   "source": [
    "Voyons maintenant comment fonctionne l'implémentation k-NN de scikit-learn. Une chose intéressante à propos de scikit-learn est qu’ils ont de nombreux exemples disponibles en ligne. Nous pouvons donc simplement rechercher quelque chose de similaire à ce que nous essayons de faire. Pour la classification k-NN en particulier, il y a cette: http://scikit-learn.org/stable/auto_examples/neighbors/plot_classification.html#sphx-glr-auto-examples-neighbors-plot-classification-py"
   ]
  },
  {
   "cell_type": "code",
   "execution_count": 14,
   "metadata": {},
   "outputs": [
    {
     "data": {
      "text/plain": [
       "KNeighborsClassifier(algorithm='auto', leaf_size=30, metric='minkowski',\n",
       "                     metric_params=None, n_jobs=None, n_neighbors=10, p=2,\n",
       "                     weights='uniform')"
      ]
     },
     "execution_count": 14,
     "metadata": {},
     "output_type": "execute_result"
    }
   ],
   "source": [
    "from sklearn import neighbors\n",
    "clf = neighbors.KNeighborsClassifier(10)\n",
    "clf.fit(X, y)"
   ]
  },
  {
   "cell_type": "markdown",
   "metadata": {},
   "source": [
    "Et fait! Avec seulement trois lignes de code, nous avons pu répéter tout ce que nous avions fait jusqu'à présent. Voyons si nous obtenons la même erreur d’entraînement que précédemment."
   ]
  },
  {
   "cell_type": "code",
   "execution_count": 15,
   "metadata": {},
   "outputs": [
    {
     "name": "stdout",
     "output_type": "stream",
     "text": [
      "train/test error (for k = 10): 0.215/0.30635\n"
     ]
    }
   ],
   "source": [
    "train_error = np.mean(y != clf.predict(X))\n",
    "test_error = np.mean(y_test != clf.predict(X_test))\n",
    "#train_error = 1. - clf.score(X, y)\n",
    "#test_error = 1. - clf.score(X_test, y_test)\n",
    "\n",
    "print(\"train/test error (for k = 10): %g/%g\" % (train_error, test_error))"
   ]
  },
  {
   "cell_type": "markdown",
   "metadata": {},
   "source": [
    "Puisque les choses sont optimisées ici, nous pouvons même faire des choses plus cool, comme tracer les limites de décision réelles. Pour ce faire, générons une grille et calculons l'estimation pour chaque point de cette grille."
   ]
  },
  {
   "cell_type": "code",
   "execution_count": 16,
   "metadata": {},
   "outputs": [
    {
     "name": "stderr",
     "output_type": "stream",
     "text": [
      "/usr/lib/python3/dist-packages/ipykernel_launcher.py:6: MatplotlibDeprecationWarning: shading='flat' when X and Y have the same dimensions as C is deprecated since 3.3.  Either specify the corners of the quadrilaterals with X and Y, or pass shading='auto', 'nearest' or 'gouraud', or set rcParams['pcolor.shading'].  This will become an error two minor releases later.\n",
      "  \n"
     ]
    },
    {
     "data": {
      "text/plain": [
       "[<matplotlib.lines.Line2D at 0x7fbabe27f320>]"
      ]
     },
     "execution_count": 16,
     "metadata": {},
     "output_type": "execute_result"
    },
    {
     "data": {
      "image/png": "[encoded data removed]",
      "text/plain": [
       "<Figure size 432x288 with 1 Axes>"
      ]
     },
     "metadata": {},
     "output_type": "display_data"
    }
   ],
   "source": [
    "xx, yy = np.meshgrid(np.linspace(-5, 5, 101), np.linspace(-5, 5, 101))\n",
    "zz = clf.predict(np.c_[xx.ravel(), yy.ravel()])\n",
    "\n",
    "# Do some plotting\n",
    "zz = zz.reshape(xx.shape)\n",
    "plt.pcolormesh(xx, yy, zz, cmap = \"coolwarm\", alpha = 0.2)\n",
    "plt.plot(X[y == 0, 0], X[y == 0, 1], \"o\", markersize=8)\n",
    "plt.plot(X[y == 1, 0], X[y == 1, 1], \"x\", markersize=8)\n"
   ]
  },
  {
   "cell_type": "markdown",
   "metadata": {},
   "source": [
    "### Determining the best value of $k$ by cross-validation"
   ]
  },
  {
   "cell_type": "markdown",
   "metadata": {},
   "source": [
    "Une façon de déterminer la \"meilleure\" valeur de $ k $ consiste à partitionner notre ensemble de données en deux (ensembles de formation et de validation), puis à ajuster sa valeur de manière à minimiser l’erreur de validation (nous avons ensuite besoin d’un troisième ensemble permettant de calculer les valeurs). erreur de test - ne jamais ajuster vos paramètres et calculer l'erreur de test en utilisant le même ensemble!)\n",
    "\n",
    "Cependant, cela ne nous fournit pas de bonnes statistiques car le partitionnement n’est effectué qu’une seule fois; une meilleure façon de le faire consiste à partitionner le jeu de données à plusieurs reprises et à recalculer le score. C'est l'idée derrière la validation croisée.\n",
    "\n",
    "scikit-learn a de belles fonctions pratiques pour effectuer une validation croisée (cross-validation) a nous proposer. Nous l'utiliserons souvent par la suite:"
   ]
  },
  {
   "cell_type": "code",
   "execution_count": 17,
   "metadata": {},
   "outputs": [
    {
     "name": "stdout",
     "output_type": "stream",
     "text": [
      "{'n_neighbors': 16}\n",
      "[0.62  0.625 0.67  0.685 0.7   0.72  0.715 0.72  0.725 0.725 0.725 0.725\n",
      " 0.745 0.75  0.75  0.765 0.735 0.755 0.74 ]\n"
     ]
    }
   ],
   "source": [
    "from sklearn.model_selection import GridSearchCV\n",
    "\n",
    "# Set up the grid search\n",
    "parameters = [{'n_neighbors': np.arange(1, 20)}]\n",
    "clf = GridSearchCV(neighbors.KNeighborsClassifier(n_neighbors = 1), parameters)\n",
    "clf.fit(X, y)\n",
    "\n",
    "# Print results\n",
    "print(clf.best_params_)\n",
    "print(clf.cv_results_[\"mean_test_score\"])"
   ]
  },
  {
   "cell_type": "markdown",
   "metadata": {},
   "source": [
    "Voyons comment cela fonctionne sur le test-set:"
   ]
  },
  {
   "cell_type": "code",
   "execution_count": 18,
   "metadata": {},
   "outputs": [
    {
     "name": "stdout",
     "output_type": "stream",
     "text": [
      "train/test error (for optimal k): 0.22/0.3031\n"
     ]
    }
   ],
   "source": [
    "train_error = np.mean(y != clf.predict(X))\n",
    "test_error = np.mean(y_test != clf.predict(X_test))\n",
    "print(\"train/test error (for optimal k): %g/%g\" % (train_error, test_error))"
   ]
  },
  {
   "cell_type": "markdown",
   "metadata": {},
   "source": [
    "## Classification on real datasets: MNIST"
   ]
  },
  {
   "cell_type": "markdown",
   "metadata": {},
   "source": [
    "Enfin, laissez-nous travailler avec un vrai jeu de données! Si vous avez déjà étudié un peu de machine learning et de statistiques, vous connaissez probablement le jeu de données MNIST composé de chiffres manuscrits. C'est l'un des ensembles de données les plus célèbres utilisés pour l'analyse comparative des algorithmes de classification et de classification.\n",
    "\n",
    "Il est également inclus dans scikit-learn:"
   ]
  },
  {
   "cell_type": "code",
   "execution_count": 19,
   "metadata": {},
   "outputs": [],
   "source": [
    "from sklearn.datasets import fetch_openml\n",
    "mnist = fetch_openml('mnist_784')"
   ]
  },
  {
   "cell_type": "markdown",
   "metadata": {},
   "source": [
    "Jetons un coup d'oeil aux données pour voir à quoi elles ressemblent."
   ]
  },
  {
   "cell_type": "code",
   "execution_count": 20,
   "metadata": {},
   "outputs": [
    {
     "name": "stdout",
     "output_type": "stream",
     "text": [
      "(70000, 784)\n",
      "(70000,)\n"
     ]
    },
    {
     "data": {
      "image/png": "[encoded data removed]",
      "text/plain": [
       "<Figure size 432x288 with 1 Axes>"
      ]
     },
     "metadata": {},
     "output_type": "display_data"
    }
   ],
   "source": [
    "X = mnist.data\n",
    "y = mnist.target\n",
    "print(X.shape)\n",
    "print(y.shape)\n",
    "\n",
    "n_samples, n_features = np.shape(X)\n",
    "\n",
    "# Plot a sample\n",
    "plt.imshow(X[20000, :].reshape((int(np.sqrt(n_features)), -1)), cmap=\"gray\")\n",
    "\n",
    "# Partition set into train/test\n",
    "samples = np.random.randint(60000, size = 1000)\n",
    "X_train, y_train = X[samples, :], y[samples]\n",
    "X_test, y_test = X[60000:, :], y[60000:]"
   ]
  },
  {
   "cell_type": "code",
   "execution_count": 21,
   "metadata": {},
   "outputs": [
    {
     "name": "stdout",
     "output_type": "stream",
     "text": [
      "train/test error: 0.074/0.1346\n"
     ]
    }
   ],
   "source": [
    "clf = neighbors.KNeighborsClassifier(n_neighbors=5)\n",
    "clf.fit(X_train, y_train)\n",
    "\n",
    "train_error = 1. - clf.score(X_train, y_train)\n",
    "test_error = 1. - clf.score(X_test, y_test)\n",
    "print(\"train/test error: %g/%g\" % (train_error, test_error))"
   ]
  },
  {
   "cell_type": "markdown",
   "metadata": {},
   "source": [
    "Ce n'est pas mauvais...   mais pas tellement bon non plus! Ce n'est pas tres rapide pour commencer... Vous pouvez essayer d'augmenter le nombre d'elements dans le trainign set (ici seulement 1000). Regardons les échantillons mal classés."
   ]
  },
  {
   "cell_type": "code",
   "execution_count": 22,
   "metadata": {
    "scrolled": true
   },
   "outputs": [
    {
     "name": "stdout",
     "output_type": "stream",
     "text": [
      "(array([  2,   3,  11,  12,  15,  17,  29,  76,  98, 100, 104, 127, 135,\n",
      "       177, 186, 207, 211, 245, 247, 250, 252, 288, 307, 309, 317, 345,\n",
      "       379, 380, 399, 412, 429, 436, 458, 464, 469, 470, 493, 515, 519,\n",
      "       531, 542, 571, 587, 611, 627, 634, 647, 662, 663, 690, 723, 726,\n",
      "       740, 746, 765, 774, 787, 802, 804, 810, 821, 848, 854, 868, 871,\n",
      "       872, 878, 881, 901, 906, 911, 936, 942, 989]),)\n"
     ]
    },
    {
     "data": {
      "text/plain": [
       "Text(0.5, 1.0, 'predicted label: 8')"
      ]
     },
     "execution_count": 22,
     "metadata": {},
     "output_type": "execute_result"
    },
    {
     "data": {
      "image/png": "[encoded data removed]",
      "text/plain": [
       "<Figure size 432x288 with 4 Axes>"
      ]
     },
     "metadata": {},
     "output_type": "display_data"
    }
   ],
   "source": [
    "errors = np.where(y_train != clf.predict(X_train))\n",
    "print(errors)\n",
    "\n",
    "from random import sample\n",
    "nums=sample(list(errors[0]),4)\n",
    "\n",
    "fig, axs = plt.subplots(2, 2)\n",
    "axs[0, 0].imshow(X[nums[0], :].reshape((int(np.sqrt(n_features)), -1)), cmap=\"gray\")\n",
    "axs[0, 0].set_title(\"predicted label: %d\" % (clf.predict(X_train[nums[0], :].reshape(1, -1))))\n",
    "axs[0, 1].imshow(X[nums[1], :].reshape((int(np.sqrt(n_features)), -1)), cmap=\"gray\")\n",
    "axs[0, 1].set_title(\"predicted label: %d\" % (clf.predict(X_train[nums[1], :].reshape(1, -1))))\n",
    "axs[1, 0].imshow(X[nums[2], :].reshape((int(np.sqrt(n_features)), -1)), cmap=\"gray\")\n",
    "axs[1, 0].set_title(\"predicted label: %d\" % (clf.predict(X_train[nums[2], :].reshape(1, -1))))\n",
    "axs[1, 1].imshow(X[nums[3], :].reshape((int(np.sqrt(n_features)), -1)), cmap=\"gray\")\n",
    "axs[1, 1].set_title(\"predicted label: %d\" % (clf.predict(X_train[nums[3], :].reshape(1, -1))))"
   ]
  },
  {
   "cell_type": "markdown",
   "metadata": {},
   "source": [
    "Auparavant, nous n'exécutions $ k $ -NN que sur deux dimensions; maintenant nos vecteurs sont beaucoup plus gros, ils ont en réalité 768 dimensions. On s'attend à ce que les méthodes locales telles que $ k $ -NN ne fonctionnent pas aussi bien une fois que nous sommes passés à de grandes dimensions. Pourquoi donc?"
   ]
  },
  {
   "cell_type": "markdown",
   "metadata": {},
   "source": [
    "**exercice** : Nous allons utiliser le dataset \"diabete\", que vous pouvez telecharger ici: https://raw.githubusercontent.com/plotly/datasets/master/diabetes.csv"
   ]
  },
  {
   "cell_type": "code",
   "execution_count": 24,
   "metadata": {},
   "outputs": [
    {
     "data": {
      "text/html": [
       "<div>\n",
       "<style scoped>\n",
       "    .dataframe tbody tr th:only-of-type {\n",
       "        vertical-align: middle;\n",
       "    }\n",
       "\n",
       "    .dataframe tbody tr th {\n",
       "        vertical-align: top;\n",
       "    }\n",
       "\n",
       "    .dataframe thead th {\n",
       "        text-align: right;\n",
       "    }\n",
       "</style>\n",
       "<table border=\"1\" class=\"dataframe\">\n",
       "  <thead>\n",
       "    <tr style=\"text-align: right;\">\n",
       "      <th></th>\n",
       "      <th>Pregnancies</th>\n",
       "      <th>Glucose</th>\n",
       "      <th>BloodPressure</th>\n",
       "      <th>SkinThickness</th>\n",
       "      <th>Insulin</th>\n",
       "      <th>BMI</th>\n",
       "      <th>DiabetesPedigreeFunction</th>\n",
       "      <th>Age</th>\n",
       "      <th>Outcome</th>\n",
       "    </tr>\n",
       "  </thead>\n",
       "  <tbody>\n",
       "    <tr>\n",
       "      <th>0</th>\n",
       "      <td>6</td>\n",
       "      <td>148</td>\n",
       "      <td>72</td>\n",
       "      <td>35</td>\n",
       "      <td>0</td>\n",
       "      <td>33.6</td>\n",
       "      <td>0.627</td>\n",
       "      <td>50</td>\n",
       "      <td>1</td>\n",
       "    </tr>\n",
       "    <tr>\n",
       "      <th>1</th>\n",
       "      <td>1</td>\n",
       "      <td>85</td>\n",
       "      <td>66</td>\n",
       "      <td>29</td>\n",
       "      <td>0</td>\n",
       "      <td>26.6</td>\n",
       "      <td>0.351</td>\n",
       "      <td>31</td>\n",
       "      <td>0</td>\n",
       "    </tr>\n",
       "    <tr>\n",
       "      <th>2</th>\n",
       "      <td>8</td>\n",
       "      <td>183</td>\n",
       "      <td>64</td>\n",
       "      <td>0</td>\n",
       "      <td>0</td>\n",
       "      <td>23.3</td>\n",
       "      <td>0.672</td>\n",
       "      <td>32</td>\n",
       "      <td>1</td>\n",
       "    </tr>\n",
       "    <tr>\n",
       "      <th>3</th>\n",
       "      <td>1</td>\n",
       "      <td>89</td>\n",
       "      <td>66</td>\n",
       "      <td>23</td>\n",
       "      <td>94</td>\n",
       "      <td>28.1</td>\n",
       "      <td>0.167</td>\n",
       "      <td>21</td>\n",
       "      <td>0</td>\n",
       "    </tr>\n",
       "    <tr>\n",
       "      <th>4</th>\n",
       "      <td>0</td>\n",
       "      <td>137</td>\n",
       "      <td>40</td>\n",
       "      <td>35</td>\n",
       "      <td>168</td>\n",
       "      <td>43.1</td>\n",
       "      <td>2.288</td>\n",
       "      <td>33</td>\n",
       "      <td>1</td>\n",
       "    </tr>\n",
       "  </tbody>\n",
       "</table>\n",
       "</div>"
      ],
      "text/plain": [
       "   Pregnancies  Glucose  BloodPressure  SkinThickness  Insulin   BMI  \\\n",
       "0            6      148             72             35        0  33.6   \n",
       "1            1       85             66             29        0  26.6   \n",
       "2            8      183             64              0        0  23.3   \n",
       "3            1       89             66             23       94  28.1   \n",
       "4            0      137             40             35      168  43.1   \n",
       "\n",
       "   DiabetesPedigreeFunction  Age  Outcome  \n",
       "0                     0.627   50        1  \n",
       "1                     0.351   31        0  \n",
       "2                     0.672   32        1  \n",
       "3                     0.167   21        0  \n",
       "4                     2.288   33        1  "
      ]
     },
     "execution_count": 24,
     "metadata": {},
     "output_type": "execute_result"
    }
   ],
   "source": [
    "import pandas as pd\n",
    "#Load the dataset\n",
    "df = pd.read_csv('diabetes.csv')\n",
    "#Print the first 5 rows of the dataframe.\n",
    "df.head()"
   ]
  },
  {
   "cell_type": "code",
   "execution_count": 25,
   "metadata": {},
   "outputs": [
    {
     "name": "stdout",
     "output_type": "stream",
     "text": [
      "(768, 8) (768,)\n"
     ]
    }
   ],
   "source": [
    "#Let's create numpy arrays for features and target\n",
    "X = df.drop('Outcome',axis=1).values\n",
    "y = df['Outcome'].values\n",
    "print(X.shape,y.shape)"
   ]
  },
  {
   "cell_type": "markdown",
   "metadata": {},
   "source": [
    "Séparons les données au hasard en un ensemble d’entraînement et de test.\n",
    "\n",
    "Nous allons adapter / former un classifieur sur l'ensemble d'entraînement et faire des prédictions sur l'ensemble d'essai. Ensuite, nous comparerons les prévisions avec les étiquettes connues.\n",
    "\n",
    "Scikit-learn permet de scinder les données en train et en ensembles de test à l’aide de la méthode train_test_split."
   ]
  },
  {
   "cell_type": "code",
   "execution_count": 24,
   "metadata": {},
   "outputs": [],
   "source": [
    "#importing train_test_split\n",
    "from sklearn.model_selection import train_test_split\n",
    "X_train,X_test,y_train,y_test = train_test_split(X,y,test_size=0.4,random_state=42, stratify=y)"
   ]
  },
  {
   "cell_type": "markdown",
   "metadata": {},
   "source": [
    "Utilisez maintenant le knn classifier pour prediure le diagnostique d'un diabete a partir des données cliniques."
   ]
  },
  {
   "cell_type": "code",
   "execution_count": 25,
   "metadata": {},
   "outputs": [
    {
     "ename": "NameError",
     "evalue": "name 'GridSearchCV' is not defined",
     "output_type": "error",
     "traceback": [
      "\u001b[0;31m---------------------------------------------------------------------------\u001b[0m",
      "\u001b[0;31mNameError\u001b[0m                                 Traceback (most recent call last)",
      "\u001b[0;32m<ipython-input-25-1ba84e83d27e>\u001b[0m in \u001b[0;36m<module>\u001b[0;34m()\u001b[0m\n\u001b[1;32m      1\u001b[0m \u001b[0mparameters\u001b[0m \u001b[0;34m=\u001b[0m \u001b[0;34m[\u001b[0m\u001b[0;34m{\u001b[0m\u001b[0;34m'n_neighbors'\u001b[0m\u001b[0;34m:\u001b[0m \u001b[0mnp\u001b[0m\u001b[0;34m.\u001b[0m\u001b[0marange\u001b[0m\u001b[0;34m(\u001b[0m\u001b[0;36m1\u001b[0m\u001b[0;34m,\u001b[0m \u001b[0;36m50\u001b[0m\u001b[0;34m)\u001b[0m\u001b[0;34m}\u001b[0m\u001b[0;34m]\u001b[0m\u001b[0;34m\u001b[0m\u001b[0;34m\u001b[0m\u001b[0m\n\u001b[0;32m----> 2\u001b[0;31m \u001b[0mgs\u001b[0m \u001b[0;34m=\u001b[0m \u001b[0mGridSearchCV\u001b[0m\u001b[0;34m(\u001b[0m\u001b[0mneighbors\u001b[0m\u001b[0;34m.\u001b[0m\u001b[0mKNeighborsClassifier\u001b[0m\u001b[0;34m(\u001b[0m\u001b[0mn_neighbors\u001b[0m \u001b[0;34m=\u001b[0m \u001b[0;36m1\u001b[0m\u001b[0;34m)\u001b[0m\u001b[0;34m,\u001b[0m \u001b[0mparameters\u001b[0m\u001b[0;34m)\u001b[0m\u001b[0;34m\u001b[0m\u001b[0;34m\u001b[0m\u001b[0m\n\u001b[0m\u001b[1;32m      3\u001b[0m \u001b[0mgs\u001b[0m\u001b[0;34m.\u001b[0m\u001b[0mfit\u001b[0m\u001b[0;34m(\u001b[0m\u001b[0mX_train\u001b[0m\u001b[0;34m,\u001b[0m \u001b[0my_train\u001b[0m\u001b[0;34m)\u001b[0m\u001b[0;34m\u001b[0m\u001b[0;34m\u001b[0m\u001b[0m\n\u001b[1;32m      4\u001b[0m \u001b[0mprint\u001b[0m\u001b[0;34m(\u001b[0m\u001b[0mgs\u001b[0m\u001b[0;34m.\u001b[0m\u001b[0mbest_params_\u001b[0m\u001b[0;34m)\u001b[0m\u001b[0;34m\u001b[0m\u001b[0;34m\u001b[0m\u001b[0m\n",
      "\u001b[0;31mNameError\u001b[0m: name 'GridSearchCV' is not defined"
     ]
    }
   ],
   "source": [
    "parameters = [{'n_neighbors': np.arange(1, 50)}]\n",
    "gs = GridSearchCV(neighbors.KNeighborsClassifier(n_neighbors = 1), parameters)\n",
    "gs.fit(X_train, y_train)\n",
    "print(gs.best_params_)"
   ]
  },
  {
   "cell_type": "code",
   "execution_count": null,
   "metadata": {},
   "outputs": [],
   "source": []
  }
 ],
 "metadata": {
  "kernelspec": {
   "display_name": "Python 3",
   "language": "python",
   "name": "python3"
  },
  "language_info": {
   "codemirror_mode": {
    "name": "ipython",
    "version": 3
   },
   "file_extension": ".py",
   "mimetype": "text/x-python",
   "name": "python",
   "nbconvert_exporter": "python",
   "pygments_lexer": "ipython3",
   "version": "3.6.9"
  }
 },
 "nbformat": 4,
 "nbformat_minor": 2
}
