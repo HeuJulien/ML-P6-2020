{
 "cells": [
  {
   "cell_type": "code",
   "execution_count": 1,
   "metadata": {},
   "outputs": [],
   "source": [
    "import numpy as np\n",
    "import matplotlib.pyplot as plt\n",
    "import tqdm as tqdm\n",
    "\n",
    "def montyHall(N_tirage=int(1e5)):\n",
    "    \"\"\" Fonction used to count the numbers of wins\n",
    "    in the Monty Hall game while changing you choice\n",
    "    of door or keeping it\"\"\"\n",
    "    \n",
    "    wins_keep=0 # Number wins while keeping the first door\n",
    "    wins_change=0 # Number wins while changing the door\n",
    "    grid = np.arange(3) # Variable used for simplicity instead of rewriting it again\n",
    "    \n",
    "    for i_tirage in tqdm.tqdm(range(N_tirage)):\n",
    "        \n",
    "        car = np.random.randint(0,3) \n",
    "        initial_choice = np.random.randint(0,3) \n",
    "        \n",
    "        possible_reveal_goat = grid[np.all([grid!=car,grid!=initial_choice],axis=0)]\n",
    "        revealed_goat = np.random.choice(possible_reveal_goat)\n",
    "        \n",
    "        new_choice = grid[np.all([grid!=initial_choice,grid!=revealed_goat],axis=0)][0]\n",
    "        \n",
    "        wins_keep += int(initial_choice==car)\n",
    "        wins_change += int(new_choice==car)\n",
    "    \n",
    "    print()\n",
    "    print('old choice win', wins_keep/N_tirage*100,'%')\n",
    "    print('new choice win', wins_change/N_tirage*100,'%')\n"
   ]
  },
  {
   "cell_type": "code",
   "execution_count": 2,
   "metadata": {},
   "outputs": [
    {
     "name": "stderr",
     "output_type": "stream",
     "text": [
      "100%|██████████| 100000/100000 [00:05<00:00, 17583.72it/s]"
     ]
    },
    {
     "name": "stdout",
     "output_type": "stream",
     "text": [
      "\n",
      "old choice win 33.357 %\n",
      "new choice win 66.643 %\n"
     ]
    },
    {
     "name": "stderr",
     "output_type": "stream",
     "text": [
      "\n"
     ]
    }
   ],
   "source": [
    "montyHall()"
   ]
  }
 ],
 "metadata": {
  "kernelspec": {
   "display_name": "Python 3",
   "language": "python",
   "name": "python3"
  },
  "language_info": {
   "codemirror_mode": {
    "name": "ipython",
    "version": 3
   },
   "file_extension": ".py",
   "mimetype": "text/x-python",
   "name": "python",
   "nbconvert_exporter": "python",
   "pygments_lexer": "ipython3",
   "version": "3.6.4"
  }
 },
 "nbformat": 4,
 "nbformat_minor": 2
}
